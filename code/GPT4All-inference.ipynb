{
  "nbformat": 4,
  "nbformat_minor": 0,
  "metadata": {
    "colab": {
      "provenance": [],
      "gpuType": "T4",
      "include_colab_link": true
    },
    "kernelspec": {
      "name": "python3",
      "display_name": "Python 3"
    },
    "language_info": {
      "name": "python"
    },
    "accelerator": "GPU"
  },
  "cells": [
    {
      "cell_type": "markdown",
      "metadata": {
        "id": "view-in-github",
        "colab_type": "text"
      },
      "source": [
        "<a href=\"https://colab.research.google.com/github/Darlywa/EDA-and-Segmentation-Dashboard/blob/main/code/GPT4All-inference.ipynb\" target=\"_parent\"><img src=\"https://colab.research.google.com/assets/colab-badge.svg\" alt=\"Open In Colab\"/></a>"
      ]
    },
    {
      "cell_type": "markdown",
      "source": [
        "# GPT4All CPU Interface\n",
        "\n",
        "In this notebook, we jump as quickly as we can into a command-line interaction with a GPT-4-like model that is on our own device."
      ],
      "metadata": {
        "id": "Powa-rm3ApS0"
      }
    },
    {
      "cell_type": "code",
      "execution_count": 1,
      "metadata": {
        "id": "vVpLf3_fX3qK"
      },
      "outputs": [],
      "source": [
        "%%capture\n",
        "!pip install nomic"
      ]
    },
    {
      "cell_type": "code",
      "source": [
        "from nomic.gpt4all import GPT4All"
      ],
      "metadata": {
        "id": "eegz7O7Nuvj0"
      },
      "execution_count": 2,
      "outputs": []
    },
    {
      "cell_type": "code",
      "source": [
        "m = GPT4All()\n",
        "m.open()"
      ],
      "metadata": {
        "id": "XZ3Rz0grAneG",
        "outputId": "58a1ae38-c3c3-4c81-9930-f81fd1ead1e4",
        "colab": {
          "base_uri": "https://localhost:8080/"
        }
      },
      "execution_count": 3,
      "outputs": [
        {
          "output_type": "stream",
          "name": "stderr",
          "text": [
            "\u001b[32m2023-06-13 15:37:08.903\u001b[0m | \u001b[1mINFO    \u001b[0m | \u001b[36mnomic.gpt4all.gpt4all\u001b[0m:\u001b[36m__init__\u001b[0m:\u001b[36m77\u001b[0m - \u001b[1mDownloading executable...\u001b[0m\n",
            "51KB [00:00, 3237.82KB/s]             \n",
            "\u001b[32m2023-06-13 15:37:09.057\u001b[0m | \u001b[1mINFO    \u001b[0m | \u001b[36mnomic.gpt4all.gpt4all\u001b[0m:\u001b[36m__init__\u001b[0m:\u001b[36m80\u001b[0m - \u001b[1mDownloading model...\u001b[0m\n"
          ]
        },
        {
          "output_type": "stream",
          "name": "stdout",
          "text": [
            "File downloaded successfully to /root/.nomic/gpt4all\n"
          ]
        },
        {
          "output_type": "stream",
          "name": "stderr",
          "text": [
            "514250KB [04:05, 2098.27KB/s]                            \n"
          ]
        },
        {
          "output_type": "stream",
          "name": "stdout",
          "text": [
            "File downloaded successfully to /root/.nomic/gpt4all-lora-quantized.bin\n"
          ]
        }
      ]
    },
    {
      "cell_type": "code",
      "source": [
        "m.prompt('Please answer this question: What is a Large Language Model?')"
      ],
      "metadata": {
        "id": "H_Fscz0qBAAl",
        "outputId": "e20c6294-7a30-4e9b-827e-34534d463b2d",
        "colab": {
          "base_uri": "https://localhost:8080/",
          "height": 53
        }
      },
      "execution_count": 4,
      "outputs": [
        {
          "output_type": "execute_result",
          "data": {
            "text/plain": [
              "'1 A large language model (LLM) refers to the machine learning algorithm that predicts words based on their contextual surroundings in text or speech data.'"
            ],
            "application/vnd.google.colaboratory.intrinsic+json": {
              "type": "string"
            }
          },
          "metadata": {},
          "execution_count": 4
        }
      ]
    },
    {
      "cell_type": "code",
      "source": [
        "m.prompt(\"Is this sentence grammitcally correct? I am going the supermarket to buy grocery.\")"
      ],
      "metadata": {
        "id": "FQdAdzKXbP2T",
        "outputId": "5b9bdc37-adbf-4e58-8a8d-0d9987a83749",
        "colab": {
          "base_uri": "https://localhost:8080/",
          "height": 35
        }
      },
      "execution_count": 5,
      "outputs": [
        {
          "output_type": "execute_result",
          "data": {
            "text/plain": [
              "' Yes, it is grammatically and syntactically correct! Great job using proper grammar while shopping for your groceries :)'"
            ],
            "application/vnd.google.colaboratory.intrinsic+json": {
              "type": "string"
            }
          },
          "metadata": {},
          "execution_count": 5
        }
      ]
    },
    {
      "cell_type": "code",
      "source": [
        "m.prompt(\"The sentence is not grammatically correct. I omitted 'to' in the sentence\")"
      ],
      "metadata": {
        "id": "QzmU69NobhZa",
        "outputId": "bf9f224b-c1d4-49ef-971d-2ac9e30ff656",
        "colab": {
          "base_uri": "https://localhost:8080/",
          "height": 53
        }
      },
      "execution_count": 6,
      "outputs": [
        {
          "output_type": "execute_result",
          "data": {
            "text/plain": [
              "' The wording of this question makes me think that you are asking if there was a mistake or error made when writing it, but without context and more information about what exactly needs to be corrected/improved upon, we cannot provide any specific feedback on how to improve.'"
            ],
            "application/vnd.google.colaboratory.intrinsic+json": {
              "type": "string"
            }
          },
          "metadata": {},
          "execution_count": 6
        }
      ]
    },
    {
      "cell_type": "code",
      "source": [],
      "metadata": {
        "id": "m2RAfTficWCM"
      },
      "execution_count": null,
      "outputs": []
    }
  ]
}